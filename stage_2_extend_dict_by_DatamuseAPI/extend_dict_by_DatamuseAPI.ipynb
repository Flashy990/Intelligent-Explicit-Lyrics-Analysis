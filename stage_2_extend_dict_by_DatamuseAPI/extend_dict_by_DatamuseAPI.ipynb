{
  "nbformat": 4,
  "nbformat_minor": 0,
  "metadata": {
    "colab": {
      "provenance": []
    },
    "kernelspec": {
      "name": "python3",
      "display_name": "Python 3"
    },
    "language_info": {
      "name": "python"
    }
  },
  "cells": [
    {
      "cell_type": "code",
      "execution_count": 22,
      "metadata": {
        "id": "DuXJP1lfzvS7"
      },
      "outputs": [],
      "source": [
        "import requests\n",
        "import pandas as pd\n",
        "\n",
        "# Load the word dictionary CSV file\n",
        "word_dict_path = 'expanded_word_dict_1.csv'\n",
        "word_dict_df = pd.read_csv(word_dict_path, encoding='utf-8')\n",
        "\n",
        "# Convert the CSV data into a dictionary format for easy processing\n",
        "seed_words = {col: word_dict_df[col].dropna().tolist() for col in word_dict_df.columns}\n",
        "\n",
        "# Function to expand words using Datamuse API, retrieving only top N similar words for each seed word\n",
        "def expand_words_with_datamuse(seed_words, top_n_similar=5):\n",
        "    expanded_words = {}\n",
        "    for category, words in seed_words.items():\n",
        "        expanded_set = set(words)  # Start with the original words in a set\n",
        "        for word in words:\n",
        "            # Query the Datamuse API for top N words similar in meaning (ml) and synonyms (rel_syn)\n",
        "            response_ml = requests.get(f\"https://api.datamuse.com/words?ml={word}&max={top_n_similar}\")\n",
        "            response_syn = requests.get(f\"https://api.datamuse.com/words?rel_syn={word}&max={top_n_similar}\")\n",
        "\n",
        "            if response_ml.status_code == 200:\n",
        "                similar_words_ml = response_ml.json()\n",
        "                expanded_set.update([w['word'] for w in similar_words_ml[:top_n_similar]])\n",
        "\n",
        "            if response_syn.status_code == 200:\n",
        "                similar_words_syn = response_syn.json()\n",
        "                expanded_set.update([w['word'] for w in similar_words_syn[:top_n_similar]])\n",
        "\n",
        "        # Convert expanded set to list to preserve the original and expanded words\n",
        "        expanded_words[category] = list(expanded_set)\n",
        "    return expanded_words\n",
        "\n",
        "# Expand seed words using the Datamuse API with each word retrieving only the top N similar words\n",
        "expanded_seed_words = expand_words_with_datamuse(seed_words, top_n_similar=2)\n",
        "\n",
        "# Combine original and expanded words for each category\n",
        "final_words = {}\n",
        "for category, words in seed_words.items():\n",
        "    # Combine original words with expanded words and remove duplicates\n",
        "    combined_words = list(set(words + expanded_seed_words[category]))\n",
        "    final_words[category] = combined_words\n",
        "\n",
        "# Create a DataFrame with the combined words\n",
        "final_df = pd.DataFrame(dict([(k, pd.Series(v)) for k, v in final_words.items()]))\n",
        "\n",
        "# Save the combined words back to the original CSV file\n",
        "final_df.to_csv('expanded_word_dict_2.csv', index=False, encoding='utf-8-sig')\n"
      ]
    }
  ]
}